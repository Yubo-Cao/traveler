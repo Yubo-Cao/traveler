{
 "cells": [
  {
   "cell_type": "code",
   "execution_count": null,
   "metadata": {},
   "outputs": [],
   "source": [
    "import torch\n",
    "import torch.nn as nn\n",
    "import torch.nn.functional as F\n",
    "from torch.utils.data import Dataset, DataLoader\n",
    "import pandas as pd\n",
    "\n",
    "import numpy as np\n",
    "import matplotlib.pyplot as plt"
   ]
  },
  {
   "cell_type": "code",
   "execution_count": null,
   "metadata": {},
   "outputs": [],
   "source": [
    "data = pd.read_csv('data.csv')\n",
    "data.head()"
   ]
  },
  {
   "cell_type": "code",
   "execution_count": null,
   "metadata": {},
   "outputs": [],
   "source": [
    "class UserLocationDateset(Dataset):\n",
    "    def __init__(self, data):\n",
    "        self.data = data\n",
    "        self.user_ids = data['user_id'].unique()\n",
    "        self.user2idx = {o:i for i,o in enumerate(self.user_ids)}\n",
    "        self.item_ids = data['item_id'].unique()\n",
    "        self.item2idx = {o:i for i,o in enumerate(self.item_ids)}\n",
    "        self.n_users = len(self.user_ids)\n",
    "        self.n_items = len(self.item_ids)\n",
    "    \n",
    "    def __len__(self):\n",
    "        return len(self.data)\n",
    "    \n",
    "    def __getitem__(self, idx):\n",
    "        user_id = self.data.iloc[idx]['user_id']\n",
    "        item_id = self.data.iloc[idx]['item_id']\n",
    "        rating = self.data.iloc[idx]['rating']\n",
    "        return self.user2idx[user_id], self.item2idx[item_id], rating\n",
    "\n",
    "dset = UserLocationDateset(data)"
   ]
  },
  {
   "cell_type": "code",
   "execution_count": null,
   "metadata": {},
   "outputs": [],
   "source": [
    "class CollabFilter(nn.Module):\n",
    "    def __init__(self, n_users, n_items, n_factors=50):\n",
    "        super().__init__()\n",
    "        self.user_factors = nn.Embedding(n_users, n_factors)\n",
    "        self.item_factors = nn.Embedding(n_items, n_factors)\n",
    "        \n",
    "    def forward(self, x):\n",
    "        users = self.user_factors(x[:,0])\n",
    "        items = self.item_factors(x[:,1])\n",
    "        return (users * items).sum(1)\n",
    "\n",
    "def get_model(data, n_factors):\n",
    "    n_users = data.userId.nunique()\n",
    "    n_items = data.movie_idx.nunique()\n",
    "    model = CollabFilter(n_users, n_items, n_factors)\n",
    "    return model\n",
    "\n",
    "net = get_model(data, 50)"
   ]
  },
  {
   "cell_type": "code",
   "execution_count": null,
   "metadata": {},
   "outputs": [],
   "source": [
    "bs = 64\n",
    "train_dl = DataLoader(dset, batch_size=bs, shuffle=True)\n",
    "opt = torch.optim.SGD(net.parameters(), lr=1e-1, weight_decay=1e-5)\n",
    "lr_scheduler = torch.optim.lr_scheduler.StepLR(opt, step_size=3, gamma=0.1)\n",
    "n_epochs = 10\n",
    "\n",
    "for epoch in range(n_epochs):\n",
    "    net.train()\n",
    "    for xb, yb in train_dl:\n",
    "        loss = F.mse_loss(net(xb), yb)\n",
    "        loss.backward()\n",
    "        opt.step()\n",
    "        opt.zero_grad()\n",
    "    lr_scheduler.step()\n",
    "    print(loss)\n",
    "\n",
    "def get_predictions(model, data):\n",
    "    model.eval()\n",
    "    users, items, ratings = data\n",
    "    users = torch.LongTensor(users)\n",
    "    items = torch.LongTensor(items)\n",
    "    predictions = model(torch.stack([users, items], dim=1))\n",
    "    return predictions.detach().numpy()\n",
    "\n",
    "def get_top_k_items(predictions, k=10):\n",
    "    top_k = np.argpartition(predictions, -k)[-k:]\n",
    "    return top_k[np.argsort(predictions[top_k])][::-1]"
   ]
  }
 ],
 "metadata": {
  "kernelspec": {
   "display_name": "Python 3.10.7 ('.venv': poetry)",
   "language": "python",
   "name": "python3"
  },
  "language_info": {
   "name": "python",
   "version": "3.10.7"
  },
  "orig_nbformat": 4,
  "vscode": {
   "interpreter": {
    "hash": "1c3e27137c06dd2ff748bf126b547898eacc1068c8e333f794ea3af8c7bed9b1"
   }
  }
 },
 "nbformat": 4,
 "nbformat_minor": 2
}
